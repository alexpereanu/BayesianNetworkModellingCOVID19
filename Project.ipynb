{
 "cells": [
  {
   "cell_type": "markdown",
   "metadata": {},
   "source": [
    "## Bayesian Networks"
   ]
  },
  {
   "cell_type": "markdown",
   "metadata": {},
   "source": [
    "### Alarm network in lab 1"
   ]
  },
  {
   "cell_type": "markdown",
   "metadata": {},
   "source": [
    "First, we import the modules we need:"
   ]
  },
  {
   "cell_type": "code",
   "execution_count": 1,
   "metadata": {},
   "outputs": [
    {
     "name": "stdout",
     "output_type": "stream",
     "text": [
      "Tue Apr 07 2020 \n",
      "\n",
      "numpy 1.18.2\n",
      "scipy 1.4.1\n",
      "pomegranate 0.12.2\n",
      "\n",
      "compiler   : GCC 7.3.0\n",
      "system     : Linux\n",
      "release    : 5.0.0-38-generic\n",
      "machine    : x86_64\n",
      "processor  : x86_64\n",
      "CPU cores  : 1\n",
      "interpreter: 64bit\n"
     ]
    }
   ],
   "source": [
    "%matplotlib inline\n",
    "import matplotlib.pyplot as plt\n",
    "import seaborn; seaborn.set_style('whitegrid')\n",
    "import numpy\n",
    "\n",
    "from pomegranate import *\n",
    "\n",
    "numpy.random.seed(0)\n",
    "numpy.set_printoptions(suppress=True)\n",
    "\n",
    "%load_ext watermark\n",
    "%watermark -m -n -p numpy,scipy,pomegranate"
   ]
  },
  {
   "cell_type": "markdown",
   "metadata": {},
   "source": [
    "Now, we start building the network:"
   ]
  },
  {
   "cell_type": "code",
   "execution_count": 16,
   "metadata": {},
   "outputs": [],
   "source": [
    "# Unconditional distribution for the metal node\n",
    "persoana = DiscreteDistribution({'barbat': 0.5, 'femeie': 0.5 })"
   ]
  },
  {
   "cell_type": "code",
   "execution_count": 17,
   "metadata": {},
   "outputs": [],
   "source": [
    "# Conditional distribution for the alarm devices\n",
    "\n",
    "pozitivCovid19 = ConditionalProbabilityTable(\n",
    "                    [['barbat', 0.6, 0.4],\n",
    "                     ['femeie', 0.4, 0.6]],[persoana])\n",
    "\n",
    "fumator = ConditionalProbabilityTable(\n",
    "           [[ 'barbat', 'T', 0.312, 0.688],\n",
    "            [ 'barbat', 'F', 0.35, 0.65],\n",
    "            [ 'femeie', 'T', 0.125, 0.875],\n",
    "            [ 'femeie', 'F', 0.06, 0.94]], [persoana, pozitivCovid19])\n",
    "\n",
    "\n",
    "heartDisease = ConditionalProbabilityTable(\n",
    "                [['barbat','T', 0.19, 0.81],\n",
    "                ['barbat', 'F', 0.071, 0.929],\n",
    "                ['femeie', 'T', 0.15, 0.85],\n",
    "                ['femeie', 'F', 0.062, 0.938]], [persoana, pozitivCovid19])\n",
    "\n",
    "mort = ConditionalProbabilityTable(\n",
    "        [['T', 'T', 'T', 0.51, 0.49],\n",
    "         ['T', 'T', 'F', 0.09, 0.91],\n",
    "         ['T', 'F', 'T', 0.12, 0.88],\n",
    "         ['T', 'F', 'F', 0.02, 0.98],\n",
    "         ['F', 'T', 'T', 0.35, 0.65],\n",
    "         ['F', 'T', 'F', 0.15, 0.85],\n",
    "         ['F', 'F', 'T', 0.5, 0.5],\n",
    "         ['F', 'F', 'F', 0.5, 0.5]],[pozitivCovid19, fumator, heartDisease])"
   ]
  },
  {
   "cell_type": "code",
   "execution_count": 18,
   "metadata": {},
   "outputs": [],
   "source": [
    "\n",
    "p = State(persoana, name=\"persoana\")\n",
    "c = State(pozitivCovid19, name=\"pozitivCovid19\")\n",
    "f = State(fumator, name=\"fumator\")\n",
    "m = State(mort, name=\"mort\")\n",
    "h = State(heartDisease, name=\"heartDisease\")\n"
   ]
  },
  {
   "cell_type": "code",
   "execution_count": 19,
   "metadata": {
    "scrolled": false
   },
   "outputs": [
    {
     "ename": "KeyError",
     "evalue": "('barbat', 0.4)",
     "output_type": "error",
     "traceback": [
      "\u001b[0;31m---------------------------------------------------------------------------\u001b[0m",
      "\u001b[0;31mKeyError\u001b[0m                                  Traceback (most recent call last)",
      "\u001b[0;32m<ipython-input-19-7dc907deed39>\u001b[0m in \u001b[0;36m<module>\u001b[0;34m\u001b[0m\n\u001b[1;32m     17\u001b[0m \u001b[0;34m\u001b[0m\u001b[0m\n\u001b[1;32m     18\u001b[0m \u001b[0;31m# Integrate everything\u001b[0m\u001b[0;34m\u001b[0m\u001b[0;34m\u001b[0m\u001b[0;34m\u001b[0m\u001b[0m\n\u001b[0;32m---> 19\u001b[0;31m \u001b[0mmodel\u001b[0m\u001b[0;34m.\u001b[0m\u001b[0mbake\u001b[0m\u001b[0;34m(\u001b[0m\u001b[0;34m)\u001b[0m\u001b[0;34m\u001b[0m\u001b[0;34m\u001b[0m\u001b[0m\n\u001b[0m\u001b[1;32m     20\u001b[0m \u001b[0;34m\u001b[0m\u001b[0m\n\u001b[1;32m     21\u001b[0m \u001b[0;31m#Draw the network\u001b[0m\u001b[0;34m\u001b[0m\u001b[0;34m\u001b[0m\u001b[0;34m\u001b[0m\u001b[0m\n",
      "\u001b[0;32m~/anaconda2/envs/alex/lib/python3.8/site-packages/pomegranate/BayesianNetwork.pyx\u001b[0m in \u001b[0;36mpomegranate.BayesianNetwork.BayesianNetwork.bake\u001b[0;34m()\u001b[0m\n",
      "\u001b[0;32m~/anaconda2/envs/alex/lib/python3.8/site-packages/pomegranate/distributions/ConditionalProbabilityTable.pyx\u001b[0m in \u001b[0;36mpomegranate.distributions.ConditionalProbabilityTable.ConditionalProbabilityTable.bake\u001b[0;34m()\u001b[0m\n",
      "\u001b[0;31mKeyError\u001b[0m: ('barbat', 0.4)"
     ]
    }
   ],
   "source": [
    "# Create the Bayesian network object\n",
    "model = BayesianNetwork(\"Proiect Sisteme Inteligente\")\n",
    "\n",
    "# Add the states to the network \n",
    "model.add_states(p,c,f,m,h)\n",
    "\n",
    "# Connect the states\n",
    "model.add_edge(p, c)\n",
    "model.add_edge(p, f)\n",
    "model.add_edge(f, m)\n",
    "model.add_edge(c, f)\n",
    "model.add_edge(c, m)\n",
    "model.add_edge(c, h)\n",
    "model.add_edge(p, h)\n",
    "model.add_edge(h, m)\n",
    "\n",
    "\n",
    "# Integrate everything\n",
    "model.bake()\n",
    "\n",
    "#Draw the network\n",
    "model.plot()"
   ]
  },
  {
   "cell_type": "code",
   "execution_count": null,
   "metadata": {},
   "outputs": [],
   "source": [
    "Interrogate the net:"
   ]
  },
  {
   "cell_type": "markdown",
   "metadata": {},
   "source": [
    "John carries a gun and both alarms go off."
   ]
  },
  {
   "cell_type": "code",
   "execution_count": null,
   "metadata": {},
   "outputs": [],
   "source": [
    "model.probability(['T', 'T', 'T'])"
   ]
  },
  {
   "cell_type": "markdown",
   "metadata": {},
   "source": [
    "Probability that John is carrying a weapon:"
   ]
  },
  {
   "cell_type": "code",
   "execution_count": null,
   "metadata": {},
   "outputs": [],
   "source": [
    "model.probability(['T', None, None])"
   ]
  },
  {
   "cell_type": "markdown",
   "metadata": {},
   "source": [
    "The second alarm goes go off, the first one does not. Probability that John has a gun: "
   ]
  },
  {
   "cell_type": "code",
   "execution_count": null,
   "metadata": {},
   "outputs": [],
   "source": [
    "model.predict_proba({'Alarm #1': 'F', 'Alarm #2': 'T'})"
   ]
  },
  {
   "cell_type": "markdown",
   "metadata": {},
   "source": [
    "John has a gun and both alarms go off:"
   ]
  },
  {
   "cell_type": "code",
   "execution_count": null,
   "metadata": {},
   "outputs": [],
   "source": [
    "model.probability(['T', 'T', 'T'])"
   ]
  },
  {
   "cell_type": "markdown",
   "metadata": {},
   "source": [
    "Probability that John carries a gun if we know that both alarms go off:"
   ]
  },
  {
   "cell_type": "code",
   "execution_count": null,
   "metadata": {},
   "outputs": [],
   "source": [
    "model.predict_proba({'Alarm #1': 'T', 'Alarm #2': 'T'})"
   ]
  },
  {
   "cell_type": "markdown",
   "metadata": {},
   "source": [
    "Probability that both alarms go off:"
   ]
  },
  {
   "cell_type": "code",
   "execution_count": null,
   "metadata": {},
   "outputs": [],
   "source": [
    "model.probability(['T', 'T', 'T']) + model.probability(['F', 'T', 'T'])"
   ]
  },
  {
   "cell_type": "code",
   "execution_count": null,
   "metadata": {},
   "outputs": [],
   "source": [
    "model.marginal()"
   ]
  },
  {
   "cell_type": "markdown",
   "metadata": {},
   "source": [
    "What is this?"
   ]
  },
  {
   "cell_type": "code",
   "execution_count": null,
   "metadata": {},
   "outputs": [],
   "source": [
    "model.predict_proba([None, 'T', 'T'])"
   ]
  },
  {
   "cell_type": "markdown",
   "metadata": {},
   "source": [
    "Probability that the first alarm goes off:"
   ]
  },
  {
   "cell_type": "code",
   "execution_count": null,
   "metadata": {},
   "outputs": [],
   "source": [
    "model.probability(['T','T','T']) + model.probability(['T','T','F']) + model.probability(['F','T','T']) + model.probability(['F','T','F'])"
   ]
  },
  {
   "cell_type": "markdown",
   "metadata": {},
   "source": [
    "What is this?"
   ]
  },
  {
   "cell_type": "code",
   "execution_count": null,
   "metadata": {},
   "outputs": [],
   "source": [
    "model.predict_proba({'Alarm #1': 'T'})"
   ]
  },
  {
   "cell_type": "markdown",
   "metadata": {},
   "source": [
    "What is this? "
   ]
  },
  {
   "cell_type": "code",
   "execution_count": null,
   "metadata": {},
   "outputs": [],
   "source": [
    "model.probability([None,'T',None])"
   ]
  },
  {
   "cell_type": "code",
   "execution_count": null,
   "metadata": {},
   "outputs": [],
   "source": []
  },
  {
   "cell_type": "code",
   "execution_count": null,
   "metadata": {},
   "outputs": [],
   "source": []
  },
  {
   "cell_type": "code",
   "execution_count": null,
   "metadata": {},
   "outputs": [],
   "source": []
  },
  {
   "cell_type": "code",
   "execution_count": null,
   "metadata": {},
   "outputs": [],
   "source": []
  },
  {
   "cell_type": "code",
   "execution_count": null,
   "metadata": {},
   "outputs": [],
   "source": []
  },
  {
   "cell_type": "code",
   "execution_count": null,
   "metadata": {},
   "outputs": [],
   "source": []
  },
  {
   "cell_type": "code",
   "execution_count": null,
   "metadata": {},
   "outputs": [],
   "source": []
  },
  {
   "cell_type": "code",
   "execution_count": null,
   "metadata": {},
   "outputs": [],
   "source": []
  }
 ],
 "metadata": {
  "kernelspec": {
   "display_name": "Python 3",
   "language": "python",
   "name": "python3"
  },
  "language_info": {
   "codemirror_mode": {
    "name": "ipython",
    "version": 3
   },
   "file_extension": ".py",
   "mimetype": "text/x-python",
   "name": "python",
   "nbconvert_exporter": "python",
   "pygments_lexer": "ipython3",
   "version": "3.8.1"
  }
 },
 "nbformat": 4,
 "nbformat_minor": 1
}
